{
  "nbformat": 4,
  "nbformat_minor": 0,
  "metadata": {
    "colab": {
      "name": "practical_2_compiler_design.ipynb",
      "provenance": [],
      "collapsed_sections": []
    },
    "kernelspec": {
      "name": "python3",
      "display_name": "Python 3"
    },
    "language_info": {
      "name": "python"
    }
  },
  "cells": [
    {
      "cell_type": "code",
      "execution_count": null,
      "metadata": {
        "colab": {
          "base_uri": "https://localhost:8080/"
        },
        "id": "dAldq9fK-b4Y",
        "outputId": "eccf89ea-1bf8-46dd-ce08-22056b9c0847"
      },
      "outputs": [
        {
          "output_type": "stream",
          "name": "stdout",
          "text": [
            "input the string: abac\n",
            "1\n",
            "string doesnot satisy the grammer rules\n"
          ]
        }
      ],
      "source": [
        "# program for a^nb^nc^n, where n>=1\n",
        "\n",
        "string = input(\"input the string: \")\n",
        "\n",
        "def rule_checker(string):\n",
        "    num_a = 0\n",
        "    num_b = 0\n",
        "    num_c = 0\n",
        "    length = int(len(string)/3)\n",
        "    print(length)\n",
        "\n",
        "    if (string[0]==\"b\" or string[0]==\"c\"):\n",
        "        print(\"string doesnot satisy the grammer rules\")\n",
        "        return\n",
        "\n",
        "    if (string[-1]==\"a\" or string[-1]==\"b\"):\n",
        "        print(\"string doesnot satisy the grammer rules\")\n",
        "        return\n",
        "\n",
        "    for i in range(0, length):\n",
        "        if string[i]==\"a\":\n",
        "            flag = 0\n",
        "            num_a = num_a + 1\n",
        "        else:\n",
        "            return \n",
        "    for i in range(length, length+length):\n",
        "        if string[i]==\"b\":\n",
        "            flag = 0\n",
        "            num_b = num_b + 1\n",
        "        else:\n",
        "            return\n",
        "    for i in range(length+3, len(string)):\n",
        "        if string[i]==\"c\":\n",
        "            num_c = num_c + 1\n",
        "        else:\n",
        "            flag=1\n",
        "            return \n",
        "    if ((num_a)==(num_b)==(num_c)):\n",
        "        print(\"string satisfies the grammer rules\")\n",
        "    else:\n",
        "        print(\"string doesnot satisy the grammer rules\")\n",
        "\n",
        "\n",
        "rule_checker(string)"
      ]
    }
  ]
}