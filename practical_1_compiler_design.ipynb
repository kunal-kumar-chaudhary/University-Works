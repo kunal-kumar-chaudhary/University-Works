{
  "nbformat": 4,
  "nbformat_minor": 0,
  "metadata": {
    "colab": {
      "name": "practical 1 compiler design.ipynb",
      "provenance": [],
      "collapsed_sections": [],
      "authorship_tag": "ABX9TyMMuIq5lducnncrFLaJTW86",
      "include_colab_link": true
    },
    "kernelspec": {
      "name": "python3",
      "display_name": "Python 3"
    },
    "language_info": {
      "name": "python"
    }
  },
  "cells": [
    {
      "cell_type": "markdown",
      "metadata": {
        "id": "view-in-github",
        "colab_type": "text"
      },
      "source": [
        "<a href=\"https://colab.research.google.com/github/kunal-kumar-chaudhary/computer_graphics/blob/main/practical_1_compiler_design.ipynb\" target=\"_parent\"><img src=\"https://colab.research.google.com/assets/colab-badge.svg\" alt=\"Open In Colab\"/></a>"
      ]
    },
    {
      "cell_type": "markdown",
      "source": [
        "rules of the grammer:\n",
        "\n",
        "* string cannot start with 'a'\n",
        "* string should not end with 'a' or string should always end with 'b'\n",
        "* 'a' cannot come after 'b' in the string in any case."
      ],
      "metadata": {
        "id": "dscZH9PQfSai"
      }
    },
    {
      "cell_type": "code",
      "execution_count": 9,
      "metadata": {
        "colab": {
          "base_uri": "https://localhost:8080/"
        },
        "id": "-GLxlCH6cqks",
        "outputId": "b9ff1188-8316-41fe-d2cc-cf63f0a72456"
      },
      "outputs": [
        {
          "output_type": "stream",
          "name": "stdout",
          "text": [
            "enter the string : aaaaaabbbbbb\n",
            "yes! string satisfies the grammer rules\n"
          ]
        }
      ],
      "source": [
        "string = input(\"enter the string : \")\n",
        "def rule_checker(string):\n",
        "    flag=0\n",
        "    if string[0]=='b':\n",
        "      print(\"string does not satisfy grammer rules\")\n",
        "      return \n",
        "    elif string[-1] == 'a':\n",
        "      print(\"string does not satisfy grammer rules\")\n",
        "      return\n",
        "    else:\n",
        "      length = len(string)\n",
        "      half = int(length/2)\n",
        "      num_a = 0\n",
        "      num_b = 0\n",
        "      for i in range(half):\n",
        "        if string[i]=='a':\n",
        "          num_a = num_a + 1\n",
        "        else:\n",
        "          print(\"string does not satisfy grammer rules\")\n",
        "          return\n",
        "      for i in range(half, length):\n",
        "        if string[i] == 'b':\n",
        "          num_b = num_b + 1\n",
        "        else:\n",
        "          print(\"string does not satisfy grammer rules\")\n",
        "          return\n",
        "      if num_a==num_b:\n",
        "        print(\"yes! string satisfies the grammer rules\")\n",
        "        return \n",
        "\n",
        "rule_checker(string)"
      ]
    }
  ]
}