{
  "nbformat": 4,
  "nbformat_minor": 0,
  "metadata": {
    "colab": {
      "name": "DDA Algorithm.ipynb",
      "provenance": [],
      "collapsed_sections": [],
      "authorship_tag": "ABX9TyMP1M2hbYLSFK6RAm644DW4",
      "include_colab_link": true
    },
    "kernelspec": {
      "name": "python3",
      "display_name": "Python 3"
    },
    "language_info": {
      "name": "python"
    }
  },
  "cells": [
    {
      "cell_type": "markdown",
      "metadata": {
        "id": "view-in-github",
        "colab_type": "text"
      },
      "source": [
        "<a href=\"https://colab.research.google.com/github/kunal-kumar-chaudhary/computer_graphics/blob/main/DDA_Algorithm.ipynb\" target=\"_parent\"><img src=\"https://colab.research.google.com/assets/colab-badge.svg\" alt=\"Open In Colab\"/></a>"
      ]
    },
    {
      "cell_type": "code",
      "metadata": {
        "colab": {
          "base_uri": "https://localhost:8080/"
        },
        "id": "iTZMapKX59oc",
        "outputId": "4fa132b2-6da7-45df-d4a1-43d5a384063d"
      },
      "source": [
        "x0 = int(input(\"enter the starting x cordinate\"))\n",
        "x1 = int(input(\"enter the final x cordinate\"))\n",
        "y0 = int(input(\"enter the starting y cordinate\"))\n",
        "y1 = int(input(\"enter the final y cordinate\"))\n",
        "\n",
        "# calculating dx and dy\n",
        "dy = y1-y0\n",
        "dx = x1-x0\n",
        "\n",
        "# calculating slope \n",
        "m = dy/dx\n",
        "\n",
        "# finding the number of steps between starting and ending point\n",
        "if abs(dx)>abs(dy):\n",
        "  steps = abs(dx)\n",
        "else:\n",
        "  steps = abs(dy)\n",
        "print(steps)\n",
        "\n",
        "# maintaining a list to add the consecutive next x and y points\n",
        "x_corr = []\n",
        "y_corr = []\n",
        "\n",
        "# appending the intial values of the points into their respective lists\n",
        "x_corr.append(x0)\n",
        "y_corr.append(y0)\n",
        "\n",
        "# performing iteration to find the number of points in between final and starting point\n",
        "for i in range(steps):\n",
        "  if m<1:\n",
        "    x_next = (x0 + 1)\n",
        "    y_next = (m + y0)\n",
        "    x_corr.append(x_next)\n",
        "    y_corr.append(y_next)\n",
        "    x0 = x_next\n",
        "    y0 = y_next\n",
        "  elif m==1:\n",
        "    x_next = (x0 + 1)\n",
        "    y_next = (1 + y0)\n",
        "    x_corr.append(x_next)\n",
        "    y_corr.append(y_next)\n",
        "    x0 = x_next\n",
        "    y0 = y_next\n",
        "  else:\n",
        "    x_next = (x0 + 1/m)\n",
        "    y_next = (1 + y0)\n",
        "    x_corr.append(x_next)\n",
        "    y_corr.append(y_next)\n",
        "    x0 = x_next\n",
        "    y0 = y_next\n",
        "  \n",
        "# printing the lists containing the x and y coordinates\n",
        "print(x_corr)\n",
        "print(y_corr)"
      ],
      "execution_count": 8,
      "outputs": [
        {
          "output_type": "stream",
          "name": "stdout",
          "text": [
            "enter the starting x cordinate5\n",
            "enter the final x cordinate6\n",
            "enter the starting y cordinate8\n",
            "enter the final y cordinate12\n",
            "4\n",
            "[5, 5.25, 5.5, 5.75, 6.0]\n",
            "[8, 9, 10, 11, 12]\n"
          ]
        }
      ]
    },
    {
      "cell_type": "code",
      "metadata": {
        "colab": {
          "base_uri": "https://localhost:8080/",
          "height": 313
        },
        "id": "rhswJIjl_Nvs",
        "outputId": "6dde9690-79c5-4082-c92a-ed6f5a01e1f3"
      },
      "source": [
        "# plotting graph with the help of matplotlib\n",
        "import matplotlib.pyplot as plt\n",
        "plt.plot(x_corr,y_corr)\n",
        "plt.title('line drawn after the deduction of points with the help of DDA algorithm')\n",
        "plt.xlabel('x-coordinate')\n",
        "plt.ylabel('y-coordinate')"
      ],
      "execution_count": 9,
      "outputs": [
        {
          "output_type": "execute_result",
          "data": {
            "text/plain": [
              "Text(0, 0.5, 'y-coordinate')"
            ]
          },
          "metadata": {},
          "execution_count": 9
        },
        {
          "output_type": "display_data",
          "data": {
            "image/png": "[encoded data removed]",
            "text/plain": [
              "<Figure size 432x288 with 1 Axes>"
            ]
          },
          "metadata": {
            "needs_background": "light"
          }
        }
      ]
    }
  ]
}